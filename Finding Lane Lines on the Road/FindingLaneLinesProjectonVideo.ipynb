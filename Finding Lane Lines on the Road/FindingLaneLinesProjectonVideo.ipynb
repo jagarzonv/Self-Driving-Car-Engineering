{
 "cells": [
  {
   "cell_type": "code",
   "execution_count": 1,
   "metadata": {
    "collapsed": false
   },
   "outputs": [],
   "source": [
    "# Import everything needed to edit/save/watch video clips\n",
    "from moviepy.editor import VideoFileClip\n",
    "from IPython.display import HTML"
   ]
  },
  {
   "cell_type": "code",
   "execution_count": 34,
   "metadata": {
    "collapsed": false
   },
   "outputs": [],
   "source": [
    "#importing some useful packages\n",
    "import matplotlib.pyplot as plt\n",
    "import matplotlib.image as mpimg\n",
    "import numpy as np\n",
    "import cv2\n",
    "import math\n",
    "\n",
    "def mean(numbers):\n",
    "    return int(round (sum(numbers)) / max(len(numbers), 1))\n",
    "\n",
    "def grayscale(img):\n",
    "    \"\"\"Applies the Grayscale transform\n",
    "    This will return an image with only one color channel\n",
    "    but NOTE: to see the returned image as grayscale\n",
    "    (assuming your grayscaled image is called 'gray')\n",
    "    you should call plt.imshow(gray, cmap='gray')\"\"\"\n",
    "    return cv2.cvtColor(img, cv2.COLOR_RGB2GRAY)\n",
    "    # Or use BGR2GRAY if you read an image with cv2.imread()\n",
    "    # return cv2.cvtColor(img, cv2.COLOR_BGR2GRAY)\n",
    "    \n",
    "def canny(img, low_threshold, high_threshold):\n",
    "    \"\"\"Applies the Canny transform\"\"\"\n",
    "    return cv2.Canny(img, low_threshold, high_threshold)\n",
    "\n",
    "def gaussian_blur(img, kernel_size):\n",
    "    \"\"\"Applies a Gaussian Noise kernel\"\"\"\n",
    "    return cv2.GaussianBlur(img, (kernel_size, kernel_size), 0)\n",
    "\n",
    "def region_of_interest(img, vertices):\n",
    "    \"\"\"\n",
    "    Applies an image mask.\n",
    "    \n",
    "    Only keeps the region of the image defined by the polygon\n",
    "    formed from `vertices`. The rest of the image is set to black.\n",
    "    \"\"\"\n",
    "    #defining a blank mask to start with\n",
    "    mask = np.zeros_like(img)   \n",
    "    \n",
    "    #defining a 3 channel or 1 channel color to fill the mask with depending on the input image\n",
    "    if len(img.shape) > 2:\n",
    "        channel_count = img.shape[2]  # i.e. 3 or 4 depending on your image\n",
    "        ignore_mask_color = (255,) * channel_count\n",
    "    else:\n",
    "        ignore_mask_color = 255\n",
    "        \n",
    "    #filling pixels inside the polygon defined by \"vertices\" with the fill color    \n",
    "    cv2.fillPoly(mask, vertices, ignore_mask_color)\n",
    "    \n",
    "    #returning the image only where mask pixels are nonzero\n",
    "    masked_image = cv2.bitwise_and(img, mask)\n",
    "    return masked_image\n",
    "\n",
    "\n",
    "def draw_lines(img, lines, color=[100, 255, 0], thickness=12):\n",
    "    \"\"\"\n",
    "    NOTE: this is the function you might want to use as a starting point once you want to \n",
    "    average/extrapolate the line segments you detect to map out the full\n",
    "    extent of the lane (going from the result shown in raw-lines-example.mp4\n",
    "    to that shown in P1_example.mp4).  \n",
    "    \n",
    "    Think about things like separating line segments by their \n",
    "    slope ((y2-y1)/(x2-x1)) to decide which segments are part of the left\n",
    "    line vs. the right line.  Then, you can average the position of each of \n",
    "    the lines and extrapolate to the top and bottom of the lane.\n",
    "    \n",
    "    This function draws `lines` with `color` and `thickness`.    \n",
    "    Lines are drawn on the image inplace (mutates the image).\n",
    "    If you want to make the lines semi-transparent, think about combining\n",
    "    this function with the weighted_img() function below\n",
    "    \"\"\"\n",
    "    color2=[0, 0, 255]\n",
    "    thickness2=12\n",
    "\n",
    "    x1right = []\n",
    "    x2right = []\n",
    "    y1right = []\n",
    "    y2right = []\n",
    "    x1left  = []\n",
    "    x2left  = []\n",
    "    y1left  = []\n",
    "    y2left  = []     \n",
    "\n",
    "    for line in lines:\n",
    "        for x1,y1,x2,y2 in line:\n",
    "            #obtain the lines slope sign\n",
    "            slope=(y2-y1)/(x2-x1)\n",
    "            if slope>0:\n",
    "              x1right.append(x1)\n",
    "              y1right.append(y1)\n",
    "              x2right.append(x2)\n",
    "              y2right.append(y2)     \n",
    "            else:#slope<0  \n",
    "              x1left.append(x1)\n",
    "              y1left.append(y1)\n",
    "              x2left.append(x2)\n",
    "              y2left.append(y2)\n",
    "\n",
    "    if   not x1right:\n",
    "     print(\"right lines list is empty\")\n",
    "    else:\n",
    "     cv2.line(img, (mean(x1right), mean(y1right)), (mean(x2right), mean(y2right)),color2, thickness2)\n",
    "    if   not x1left:\n",
    "     print(\"left lines list is empty\")\n",
    "    else:\n",
    "     cv2.line(img, (mean(x1left ), mean( y1left)), (mean(x2left ), mean( y2left)), color,  thickness)\n",
    "\n",
    "def hough_lines(img, rho, theta, threshold, min_line_len, max_line_gap):\n",
    "    \"\"\"\n",
    "    `img` should be the output of a Canny transform.\n",
    "        \n",
    "    Returns an image with hough lines drawn.\n",
    "    \"\"\"\n",
    "    lines = cv2.HoughLinesP(img, rho, theta, threshold, np.array([]), minLineLength=min_line_len, maxLineGap=max_line_gap)\n",
    "    line_img = np.zeros((img.shape[0], img.shape[1], 3), dtype=np.uint8)\n",
    "    draw_lines(line_img, lines)\n",
    "    return line_img\n",
    "\n",
    "# Python 3 has support for cool math symbols.\n",
    "\n",
    "def weighted_img(img, initial_img, α=0.8, β=1., λ=0.):\n",
    "    \"\"\"\n",
    "    `img` is the output of the hough_lines(), An image with lines drawn on it.\n",
    "    Should be a blank image (all black) with lines drawn on it.\n",
    "    \n",
    "    `initial_img` should be the image before any processing.\n",
    "    \n",
    "    The result image is computed as follows:\n",
    "    \n",
    "    initial_img * α + img * β + λ\n",
    "    NOTE: initial_img and img must be the same shape!\n",
    "    \"\"\"\n",
    "    return cv2.addWeighted(initial_img, α, img, β, λ)"
   ]
  },
  {
   "cell_type": "code",
   "execution_count": 51,
   "metadata": {
    "collapsed": false
   },
   "outputs": [],
   "source": [
    "def process_image(image):\n",
    "    # NOTE: The output you return should be a color image (3 channel) for processing video below\n",
    "    # TODO: put your pipeline here,\n",
    "    # you should return the final output (image with lines are drawn on lanes)\n",
    "\n",
    "    # TODO: Build your pipeline that will draw lane lines on the test_images\n",
    "# then save them to the test_images directory.\n",
    "#image path and valid extensions\n",
    "#import os\n",
    "#imagespath = \"test_images/\" \n",
    "#imageslist = []\n",
    "#valid_image_extensions = [\".jpg\", \".jpeg\", \".png\", \".tif\", \".tiff\"] \n",
    "#valid_image_extensions = [item.lower() for item in valid_image_extensions]\n",
    "#create a list all files in directory and\n",
    "#append files with a vaild extention to image_path_list\n",
    "#for file in os.listdir(imagespath):\n",
    "#    extension = os.path.splitext(file)[1]\n",
    "#    if extension.lower() not in valid_image_extensions:\n",
    "#        continue\n",
    "#   imageslist.append(os.path.join(imagespath, file))\n",
    "#loop\n",
    "#for imagePath in imageslist:\n",
    "#    image = cv2.imread(imagePath)\n",
    "    \n",
    "    # show\n",
    "    #if image is not None:\n",
    "        #cv2.imshow(imagePath, image)\n",
    "    #elif image is None:\n",
    "       # print (\"read error: \" + imagePath)\n",
    "       #continue\n",
    "    \n",
    "    #/////////////////image process///////////////\n",
    "    # color transform\n",
    "    grayimg   = grayscale(image)\n",
    "    #cv2.imshow(\"gray\", grayimg)\n",
    "    # denoise\n",
    "    denoiseimg=gaussian_blur(grayimg, 5)\n",
    "    #cv2.imshow(\"denoise\", denoiseimg)\n",
    "    # border extraction\n",
    "    low_threshold=50\n",
    "    high_threshold=150\n",
    "    bordersimage=canny( denoiseimg, low_threshold, high_threshold)\n",
    "    #cv2.imshow(\"canny\", bordersimage)\n",
    "    #mask\n",
    "    imshape = image.shape #return height, width, channels\n",
    "    vertices = np.array([[(0,imshape[0]),((imshape[1]/2)-20, (imshape[0]/2)+40), ((imshape[1]/2)+20, (imshape[0]/2)+40), (imshape[1],imshape[0])]], dtype=np.int32)\n",
    "    maskimg=region_of_interest(bordersimage, vertices)\n",
    "    #cv2.imshow(\"maskimg\", maskimg)\n",
    "    #find lines \n",
    "    rho=1\n",
    "    theta=(np.pi/180)*0.4\n",
    "    threshold=30\n",
    "    min_line_len=100\n",
    "    max_line_gap=150\n",
    "    linesimage=hough_lines(maskimg, rho, theta, threshold, min_line_len, max_line_gap)\n",
    "    #cv2.imshow(\"hough lines\", linesimage)\n",
    "    #visualize\n",
    "    α=0.6\n",
    "    β=1-α\n",
    "    λ=0.0\n",
    "    weightedimage=weighted_img(image, linesimage,α,β,λ)\n",
    "    #cv2.imshow(\"weighted lines\", weightedimage)\n",
    "\n",
    "    #/////////////////////////////////////////////\n",
    "\n",
    "    #key = cv2.waitKey(0)\n",
    "    #if key == 27: # escape\n",
    "        #break\n",
    "    #cv2.destroyAllWindows()\n",
    "# close  windows\n",
    "#cv2.destroyAllWindows()\n",
    "    \n",
    "    \n",
    "    \n",
    "    return weightedimage"
   ]
  },
  {
   "cell_type": "code",
   "execution_count": 52,
   "metadata": {
    "collapsed": false
   },
   "outputs": [
    {
     "name": "stdout",
     "output_type": "stream",
     "text": [
      "[MoviePy] >>>> Building video white.mp4\n",
      "[MoviePy] Writing video white.mp4\n"
     ]
    },
    {
     "name": "stderr",
     "output_type": "stream",
     "text": [
      "100%|█████████████████████████████████████████████████████████████████████████████████████████████████████████████████████████████████▍| 221/222 [00:05<00:00, 39.21it/s]\n"
     ]
    },
    {
     "name": "stdout",
     "output_type": "stream",
     "text": [
      "[MoviePy] Done.\n",
      "[MoviePy] >>>> Video ready: white.mp4 \n",
      "\n",
      "Wall time: 6.39 s\n"
     ]
    }
   ],
   "source": [
    "white_output = 'white.mp4'\n",
    "clip1 = VideoFileClip(\"solidWhiteRight.mp4\")\n",
    "white_clip = clip1.fl_image(process_image) #NOTE: this function expects color images!!\n",
    "%time white_clip.write_videofile(white_output, audio=False)"
   ]
  },
  {
   "cell_type": "code",
   "execution_count": 53,
   "metadata": {
    "collapsed": false
   },
   "outputs": [
    {
     "data": {
      "text/html": [
       "\n",
       "<video width=\"960\" height=\"540\" controls>\n",
       "  <source src=\"white.mp4\">\n",
       "</video>\n"
      ],
      "text/plain": [
       "<IPython.core.display.HTML object>"
      ]
     },
     "execution_count": 53,
     "metadata": {},
     "output_type": "execute_result"
    }
   ],
   "source": [
    "HTML(\"\"\"\n",
    "<video width=\"960\" height=\"540\" controls>\n",
    "  <source src=\"{0}\">\n",
    "</video>\n",
    "\"\"\".format(white_output))"
   ]
  },
  {
   "cell_type": "code",
   "execution_count": 54,
   "metadata": {
    "collapsed": false
   },
   "outputs": [
    {
     "name": "stdout",
     "output_type": "stream",
     "text": [
      "[MoviePy] >>>> Building video yellow.mp4\n",
      "[MoviePy] Writing video yellow.mp4\n"
     ]
    },
    {
     "name": "stderr",
     "output_type": "stream",
     "text": [
      "100%|█████████████████████████████████████████████████████████████████████████████████████████████████████████████████████████████████▊| 681/682 [00:21<00:00, 31.02it/s]\n"
     ]
    },
    {
     "name": "stdout",
     "output_type": "stream",
     "text": [
      "[MoviePy] Done.\n",
      "[MoviePy] >>>> Video ready: yellow.mp4 \n",
      "\n",
      "Wall time: 22.5 s\n"
     ]
    }
   ],
   "source": [
    "yellow_output = 'yellow.mp4'\n",
    "clip2 = VideoFileClip('solidYellowLeft.mp4')\n",
    "yellow_clip = clip2.fl_image(process_image)\n",
    "%time yellow_clip.write_videofile(yellow_output, audio=False)"
   ]
  },
  {
   "cell_type": "code",
   "execution_count": 55,
   "metadata": {
    "collapsed": false
   },
   "outputs": [
    {
     "data": {
      "text/html": [
       "\n",
       "<video width=\"960\" height=\"540\" controls>\n",
       "  <source src=\"yellow.mp4\">\n",
       "</video>\n"
      ],
      "text/plain": [
       "<IPython.core.display.HTML object>"
      ]
     },
     "execution_count": 55,
     "metadata": {},
     "output_type": "execute_result"
    }
   ],
   "source": [
    "HTML(\"\"\"\n",
    "<video width=\"960\" height=\"540\" controls>\n",
    "  <source src=\"{0}\">\n",
    "</video>\n",
    "\"\"\".format(yellow_output))"
   ]
  },
  {
   "cell_type": "code",
   "execution_count": null,
   "metadata": {
    "collapsed": true
   },
   "outputs": [],
   "source": [
    "Reflection on the project:\n",
    "    \n",
    "In the pipeline computer vision algorithms has been applied\n",
    "in six stages , in the first a color space transformation to\n",
    "gray scale , this reduce RGB image to one channel image\n",
    "through a weighted sum, in the second stage the gray\n",
    "image was smoothed with gaussian filter for noise reduction,\n",
    "the third stage uses a canny edge detector with thresold\n",
    "whose range was established from static images, then a\n",
    "polygonal mask was configured to preserve only the information\n",
    "on the road. In the five stage a hough transform is used to\n",
    "detect straight lines and finally the result is Interlaced\n",
    "with original image for visualization purposes.\n",
    "\n",
    "This initial solution is only applicable for images with\n",
    "similar characteristics of lighting, perspective of the\n",
    "camera and content since for other conditions are recalculated\n",
    "the parameters for the stages, it is because this does not work\n",
    "properly for the video extra.mp4\n",
    "\n",
    "It is possible to include other image preprocessing steps to try\n",
    "to normalize the input images such as histogram equalization\n",
    "or generate a table of variable parameters for the thresholds of\n",
    "canny detector according to the minimum and maximum levels of\n",
    "the image histogram with adaptive thresholding, however, these\n",
    "techniques are not very robust to unstructured environments,\n",
    "which requires algorithms with a certain degree of \"intelligence\"\n",
    "    "
   ]
  },
  {
   "cell_type": "code",
   "execution_count": 56,
   "metadata": {
    "collapsed": false
   },
   "outputs": [
    {
     "name": "stdout",
     "output_type": "stream",
     "text": [
      "[MoviePy] >>>> Building video extra.mp4\n",
      "[MoviePy] Writing video extra.mp4\n"
     ]
    },
    {
     "name": "stderr",
     "output_type": "stream",
     "text": [
      "100%|██████████████████████████████████████████████████████████████████████████████████████████████████████████████████████████████████| 251/251 [00:15<00:00, 23.21it/s]\n"
     ]
    },
    {
     "name": "stdout",
     "output_type": "stream",
     "text": [
      "[MoviePy] Done.\n",
      "[MoviePy] >>>> Video ready: extra.mp4 \n",
      "\n",
      "Wall time: 16.2 s\n"
     ]
    }
   ],
   "source": [
    "challenge_output = 'extra.mp4'\n",
    "clip2 = VideoFileClip('challenge.mp4')\n",
    "challenge_clip = clip2.fl_image(process_image)\n",
    "%time challenge_clip.write_videofile(challenge_output, audio=False)"
   ]
  },
  {
   "cell_type": "code",
   "execution_count": 57,
   "metadata": {
    "collapsed": false
   },
   "outputs": [
    {
     "data": {
      "text/html": [
       "\n",
       "<video width=\"960\" height=\"540\" controls>\n",
       "  <source src=\"extra.mp4\">\n",
       "</video>\n"
      ],
      "text/plain": [
       "<IPython.core.display.HTML object>"
      ]
     },
     "execution_count": 57,
     "metadata": {},
     "output_type": "execute_result"
    }
   ],
   "source": [
    "HTML(\"\"\"\n",
    "<video width=\"960\" height=\"540\" controls>\n",
    "  <source src=\"{0}\">\n",
    "</video>\n",
    "\"\"\".format(challenge_output))"
   ]
  },
  {
   "cell_type": "code",
   "execution_count": null,
   "metadata": {
    "collapsed": true
   },
   "outputs": [],
   "source": []
  }
 ],
 "metadata": {
  "anaconda-cloud": {},
  "kernelspec": {
   "display_name": "Python [conda root]",
   "language": "python",
   "name": "conda-root-py"
  },
  "language_info": {
   "codemirror_mode": {
    "name": "ipython",
    "version": 3
   },
   "file_extension": ".py",
   "mimetype": "text/x-python",
   "name": "python",
   "nbconvert_exporter": "python",
   "pygments_lexer": "ipython3",
   "version": "3.5.2"
  }
 },
 "nbformat": 4,
 "nbformat_minor": 1
}
